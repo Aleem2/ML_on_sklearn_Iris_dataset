{
  "nbformat": 4,
  "nbformat_minor": 0,
  "metadata": {
    "colab": {
      "provenance": [],
      "authorship_tag": "ABX9TyOy+O5zaoTN8bB+2Ikg42CL",
      "include_colab_link": true
    },
    "kernelspec": {
      "name": "python3",
      "display_name": "Python 3"
    },
    "language_info": {
      "name": "python"
    }
  },
  "cells": [
    {
      "cell_type": "markdown",
      "metadata": {
        "id": "view-in-github",
        "colab_type": "text"
      },
      "source": [
        "<a href=\"https://colab.research.google.com/github/Aleem2/Mastering-ML-using-sklearn/blob/main/Sklearn_Iris__data_set.ipynb\" target=\"_parent\"><img src=\"https://colab.research.google.com/assets/colab-badge.svg\" alt=\"Open In Colab\"/></a>"
      ]
    },
    {
      "cell_type": "markdown",
      "source": [
        "# Analysis steps documented\n",
        "1. Understand the dataset, the shape of training data and the target vector\n",
        "2. What is the sample size\n",
        "3. Selecting a model using the https://scikit-learn.org/stable/tutorial/machine_learning_map/index.html\n",
        "4. Use template file to code the problem."
      ],
      "metadata": {
        "id": "JcRT3ZUWWEa_"
      }
    },
    {
      "cell_type": "markdown",
      "source": [
        "# Working on iris scikit's dataset"
      ],
      "metadata": {
        "id": "Dykd__YU-UGc"
      }
    },
    {
      "cell_type": "code",
      "execution_count": 10,
      "metadata": {
        "id": "dfx0ATiAmcC7",
        "colab": {
          "base_uri": "https://localhost:8080/"
        },
        "outputId": "5b97621a-7e86-490a-a8d2-3715b75aea24"
      },
      "outputs": [
        {
          "output_type": "stream",
          "name": "stdout",
          "text": [
            "shape of X = (150, 4)\n",
            "shape of y = (150,)\n",
            "[0 1 2]\n"
          ]
        }
      ],
      "source": [
        "from sklearn.preprocessing import StandardScaler\n",
        "#from sklearn.linear_model import LogisticRegression\n",
        "from sklearn import svm\n",
        "from sklearn.pipeline import make_pipeline\n",
        "from sklearn.datasets import load_iris\n",
        "from sklearn.model_selection import train_test_split\n",
        "from sklearn.metrics import accuracy_score\n",
        "from sklearn.model_selection import cross_validate\n",
        "import numpy as np\n",
        "\n",
        "# create a pipeline object\n",
        "pipe = make_pipeline(\n",
        "    StandardScaler(),\n",
        "    svm.SVC()\n",
        ")\n",
        "# load the iris dataset and split it into train and test sets\n",
        "X, y = load_iris(return_X_y=True)\n",
        "# Understanding the data set\n",
        "print('shape of X = '+ str(X.shape))\n",
        "print('shape of y = '+ str(y.shape))\n",
        "print(np.unique(y))\n",
        "X_train, X_test, y_train, y_test = train_test_split(X, y, random_state=0)\n",
        "# fit the whole pipeline\n",
        "pipe.fit(X_train, y_train)\n",
        "# we can now use it like any other estimator\n",
        "acc_score=accuracy_score(pipe.predict(X_test), y_test)\n",
        "result = cross_validate(pipe, X_train, y_train)  # defaults to 5-fold CV"
      ]
    },
    {
      "cell_type": "code",
      "source": [
        "print(result['test_score']) # The cross validates the model."
      ],
      "metadata": {
        "colab": {
          "base_uri": "https://localhost:8080/"
        },
        "id": "_aKte7NQRYwg",
        "outputId": "55f52759-349a-433e-bb5d-97310987cdfc"
      },
      "execution_count": 7,
      "outputs": [
        {
          "output_type": "stream",
          "name": "stdout",
          "text": [
            "[0.95652174 0.86956522 1.         0.95454545 1.        ]\n"
          ]
        }
      ]
    },
    {
      "cell_type": "code",
      "source": [
        "print(acc_score) # accuracy of test data"
      ],
      "metadata": {
        "colab": {
          "base_uri": "https://localhost:8080/"
        },
        "id": "ImdsA6GYRZsT",
        "outputId": "9eaf9f24-acfb-4b41-dfcb-e9527cecb12c"
      },
      "execution_count": 8,
      "outputs": [
        {
          "output_type": "stream",
          "name": "stdout",
          "text": [
            "0.9736842105263158\n"
          ]
        }
      ]
    },
    {
      "cell_type": "code",
      "source": [
        "print('Test data \\n')\n",
        "print(y_test)\n",
        "print('Prediction on test data \\n')\n",
        "print(pipe.predict(X_test))"
      ],
      "metadata": {
        "colab": {
          "base_uri": "https://localhost:8080/"
        },
        "id": "U2oIowm8T5et",
        "outputId": "79d98f45-7d4d-441c-9f6c-94ee3a6628bf"
      },
      "execution_count": 9,
      "outputs": [
        {
          "output_type": "stream",
          "name": "stdout",
          "text": [
            "Test data \n",
            "\n",
            "[2 1 0 2 0 2 0 1 1 1 2 1 1 1 1 0 1 1 0 0 2 1 0 0 2 0 0 1 1 0 2 1 0 2 2 1 0\n",
            " 1]\n",
            "Prediction on test data \n",
            "\n",
            "[2 1 0 2 0 2 0 1 1 1 2 1 1 1 1 0 1 1 0 0 2 1 0 0 2 0 0 1 1 0 2 1 0 2 2 1 0\n",
            " 2]\n"
          ]
        }
      ]
    },
    {
      "cell_type": "code",
      "source": [
        "# using KNN instead of SVM\n",
        "from sklearn.neighbors import KNeighborsClassifier\n",
        "#knn = KNeighborsClassifier()\n",
        "# create a pipeline object\n",
        "pipe = make_pipeline(\n",
        "    StandardScaler(),\n",
        "    KNeighborsClassifier()\n",
        ")\n",
        "# load the iris dataset and split it into train and test sets\n",
        "X, y = load_iris(return_X_y=True)\n",
        "# Understanding the data set\n",
        "print('shape of X = '+ str(X.shape))\n",
        "print('shape of y = '+ str(y.shape))\n",
        "print(np.unique(y))\n",
        "X_train, X_test, y_train, y_test = train_test_split(X, y, random_state=0)\n",
        "# fit the whole pipeline\n",
        "pipe.fit(X_train, y_train)\n",
        "# we can now use it like any other estimator\n",
        "acc_score=accuracy_score(pipe.predict(X_test), y_test)\n",
        "result = cross_validate(pipe, X_train, y_train)  # defaults to 5-fold CV\n",
        "print(result['test_score']) # The cross validates the model.\n",
        "print(acc_score) # accuracy of test data"
      ],
      "metadata": {
        "colab": {
          "base_uri": "https://localhost:8080/"
        },
        "id": "qtpukSTDeEek",
        "outputId": "548484d2-7570-44f0-b2b9-b1205e8c0ccc"
      },
      "execution_count": 11,
      "outputs": [
        {
          "output_type": "stream",
          "name": "stdout",
          "text": [
            "shape of X = (150, 4)\n",
            "shape of y = (150,)\n",
            "[0 1 2]\n",
            "[0.95652174 0.95652174 1.         0.86363636 1.        ]\n",
            "0.9736842105263158\n"
          ]
        }
      ]
    },
    {
      "cell_type": "markdown",
      "source": [
        "# Rough work the cells above completes the evaluation."
      ],
      "metadata": {
        "id": "isAjQgNJTZLs"
      }
    },
    {
      "cell_type": "code",
      "source": [
        "# importing the data\n",
        "from sklearn import datasets\n",
        "iris = datasets.load_iris()\n",
        "X=iris.data\n",
        "y=iris.target\n",
        "print('shape of X = '+ str(X.shape))\n",
        "print('shape of y = '+ str(y.shape))"
      ],
      "metadata": {
        "colab": {
          "base_uri": "https://localhost:8080/"
        },
        "id": "ER6ovf0A-aze",
        "outputId": "e14322ea-8612-44c3-f287-e17f64f25260"
      },
      "execution_count": null,
      "outputs": [
        {
          "output_type": "stream",
          "name": "stdout",
          "text": [
            "shape of X = (150, 4)\n",
            "shape of y = (150,)\n"
          ]
        }
      ]
    },
    {
      "cell_type": "code",
      "source": [
        "# splitting the data for train and test\n",
        "import numpy as np\n",
        "from sklearn.model_selection import train_test_split\n",
        "X_train, X_test, y_train, y_test = train_test_split( X, y)\n",
        "print(X_train.shape)\n",
        "print(y_train.shape)\n",
        "print(np.unique(y_train))"
      ],
      "metadata": {
        "colab": {
          "base_uri": "https://localhost:8080/"
        },
        "id": "FTq1Jaib_b2B",
        "outputId": "61e9dfe2-2b3b-4dd0-e492-0a9ed3140306"
      },
      "execution_count": null,
      "outputs": [
        {
          "output_type": "stream",
          "name": "stdout",
          "text": [
            "(112, 4)\n",
            "(112,)\n",
            "[0 1 2]\n"
          ]
        }
      ]
    }
  ]
}