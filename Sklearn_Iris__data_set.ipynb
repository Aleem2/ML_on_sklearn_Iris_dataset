{
  "nbformat": 4,
  "nbformat_minor": 0,
  "metadata": {
    "colab": {
      "provenance": [],
      "authorship_tag": "ABX9TyNPlA2b73dpXaOooP7wl2jK",
      "include_colab_link": true
    },
    "kernelspec": {
      "name": "python3",
      "display_name": "Python 3"
    },
    "language_info": {
      "name": "python"
    }
  },
  "cells": [
    {
      "cell_type": "markdown",
      "metadata": {
        "id": "view-in-github",
        "colab_type": "text"
      },
      "source": [
        "<a href=\"https://colab.research.google.com/github/Aleem2/ML_on_sklearn_Iris_dataset/blob/main/Sklearn_Iris__data_set.ipynb\" target=\"_parent\"><img src=\"https://colab.research.google.com/assets/colab-badge.svg\" alt=\"Open In Colab\"/></a>"
      ]
    },
    {
      "cell_type": "markdown",
      "source": [
        "# Working on iris scikit's dataset"
      ],
      "metadata": {
        "id": "Dykd__YU-UGc"
      }
    },
    {
      "cell_type": "code",
      "source": [
        "# importing the data\n",
        "from sklearn import datasets\n",
        "iris = datasets.load_iris()\n",
        "X=iris.data\n",
        "y=iris.target\n",
        "print('shape of X = '+ str(X.shape))\n",
        "print('shape of y = '+ str(y.shape))"
      ],
      "metadata": {
        "colab": {
          "base_uri": "https://localhost:8080/"
        },
        "id": "ER6ovf0A-aze",
        "outputId": "cabc2e33-606e-4a9d-d1c0-e7a1b2c6c20b"
      },
      "execution_count": 1,
      "outputs": [
        {
          "output_type": "stream",
          "name": "stdout",
          "text": [
            "shape of X = (150, 4)\n",
            "shape of y = (150,)\n"
          ]
        }
      ]
    },
    {
      "cell_type": "code",
      "source": [
        "# splitting the data for train and test\n",
        "import numpy as np\n",
        "from sklearn.model_selection import train_test_split\n",
        "X_train, X_test, y_train, y_test = train_test_split( X, y)\n",
        "print(X_train.shape)\n",
        "print(y_train.shape)\n",
        "print(np.unique(y_train))"
      ],
      "metadata": {
        "colab": {
          "base_uri": "https://localhost:8080/"
        },
        "id": "FTq1Jaib_b2B",
        "outputId": "1b483c77-3bb6-4d47-bb9a-62ee547ba9a5"
      },
      "execution_count": 2,
      "outputs": [
        {
          "output_type": "stream",
          "name": "stdout",
          "text": [
            "(112, 4)\n",
            "(112,)\n",
            "[0 1 2]\n"
          ]
        }
      ]
    },
    {
      "cell_type": "code",
      "source": [
        "# Selecting a estimator based on https://scikit-learn.org/stable/tutorial/machine_learning_map/index.html\n",
        "# The suggestion is to use linearSVC\n",
        "from sklearn import svm\n",
        "from sklearn.metrics import accuracy_score\n",
        "svm = svm.SVC()\n",
        "svm.fit(X_train,y_train)\n",
        "print(svm.predict(X_test))\n",
        "print(y_test)\n",
        "print(\"How is my model performing\")\n",
        "print(accuracy_score(svm.predict(X_test), y_test))\n"
      ],
      "metadata": {
        "colab": {
          "base_uri": "https://localhost:8080/"
        },
        "id": "CzkB_dAjBAXg",
        "outputId": "132fc7a4-a61a-437c-dfb1-93b122f6ed18"
      },
      "execution_count": 3,
      "outputs": [
        {
          "output_type": "stream",
          "name": "stdout",
          "text": [
            "[1 2 1 0 2 2 1 1 0 2 1 0 0 1 0 1 1 1 0 1 2 1 0 1 2 2 1 0 2 2 1 2 1 0 1 0 2\n",
            " 0]\n",
            "[1 2 1 0 2 2 1 1 0 2 1 0 0 1 0 1 1 1 0 1 2 1 0 1 2 2 1 0 2 2 1 2 1 0 1 0 2\n",
            " 0]\n",
            "How is my model performing\n",
            "1.0\n"
          ]
        }
      ]
    }
  ]
}