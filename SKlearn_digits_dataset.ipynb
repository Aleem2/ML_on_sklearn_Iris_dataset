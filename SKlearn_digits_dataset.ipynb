{
  "nbformat": 4,
  "nbformat_minor": 0,
  "metadata": {
    "colab": {
      "provenance": [],
      "authorship_tag": "ABX9TyNO6w2IZwZ07Wc7FpyO2rGs",
      "include_colab_link": true
    },
    "kernelspec": {
      "name": "python3",
      "display_name": "Python 3"
    },
    "language_info": {
      "name": "python"
    }
  },
  "cells": [
    {
      "cell_type": "markdown",
      "metadata": {
        "id": "view-in-github",
        "colab_type": "text"
      },
      "source": [
        "<a href=\"https://colab.research.google.com/github/Aleem2/Mastering-ML-using-sklearn/blob/main/SKlearn_digits_dataset.ipynb\" target=\"_parent\"><img src=\"https://colab.research.google.com/assets/colab-badge.svg\" alt=\"Open In Colab\"/></a>"
      ]
    },
    {
      "cell_type": "code",
      "execution_count": 1,
      "metadata": {
        "id": "uLBud7uo-UEJ"
      },
      "outputs": [],
      "source": [
        "from sklearn import datasets, linear_model, neighbors\n",
        "\n",
        "X_digits, y_digits = datasets.load_digits(return_X_y=True)\n",
        "X_digits = X_digits / X_digits.max()"
      ]
    },
    {
      "cell_type": "code",
      "source": [
        "# exploring data\n",
        "print(X_digits)\n",
        "print(y_digits)"
      ],
      "metadata": {
        "colab": {
          "base_uri": "https://localhost:8080/"
        },
        "id": "uYb2I8xZ-cvv",
        "outputId": "bfae4a61-05e6-43a7-f387-d656d211d8ae"
      },
      "execution_count": 4,
      "outputs": [
        {
          "output_type": "stream",
          "name": "stdout",
          "text": [
            "[[0.     0.     0.3125 ... 0.     0.     0.    ]\n",
            " [0.     0.     0.     ... 0.625  0.     0.    ]\n",
            " [0.     0.     0.     ... 1.     0.5625 0.    ]\n",
            " ...\n",
            " [0.     0.     0.0625 ... 0.375  0.     0.    ]\n",
            " [0.     0.     0.125  ... 0.75   0.     0.    ]\n",
            " [0.     0.     0.625  ... 0.75   0.0625 0.    ]]\n",
            "[0 1 2 ... 8 9 8]\n"
          ]
        }
      ]
    },
    {
      "cell_type": "markdown",
      "source": [
        "# Approach - simply bring in the code template. And keep relevant parts. Part 1 is to apply KNN to digits database with 10% train test split."
      ],
      "metadata": {
        "id": "i_RVeoM9_EjU"
      }
    },
    {
      "cell_type": "code",
      "source": [
        "from sklearn.preprocessing import StandardScaler\n",
        "from sklearn.neighbors import KNeighborsClassifier\n",
        "#>>> knn = KNeighborsClassifier()\n",
        "#from sklearn.linear_model import LogisticRegression\n",
        "from sklearn.pipeline import make_pipeline\n",
        "#from sklearn.datasets import load_iris\n",
        "from sklearn.model_selection import train_test_split\n",
        "from sklearn.metrics import accuracy_score\n",
        "from sklearn.model_selection import cross_validate\n",
        "# create a pipeline object\n",
        "pipe = make_pipeline(\n",
        "    StandardScaler(),\n",
        "    KNeighborsClassifier()\n",
        ")\n",
        "# load the iris dataset and split it into train and test sets\n",
        "X, y = datasets.load_digits(return_X_y=True)\n",
        "X_train, X_test, y_train, y_test = train_test_split(X, y, random_state=0, train_size=0.9)\n",
        "# fit the whole pipeline\n",
        "pipe.fit(X_train, y_train)\n",
        "# we can now use it like any other estimator\n",
        "acc_score=accuracy_score(pipe.predict(X_test), y_test)\n",
        "\n",
        "result = cross_validate(pipe, X_train, y_train)  # defaults to 5-fold CV"
      ],
      "metadata": {
        "id": "IdYMG7F4-cmW"
      },
      "execution_count": 30,
      "outputs": []
    },
    {
      "cell_type": "code",
      "source": [
        "print(result['test_score'])"
      ],
      "metadata": {
        "colab": {
          "base_uri": "https://localhost:8080/"
        },
        "id": "R0ff09tFBFIj",
        "outputId": "d093e640-c4bf-44de-8643-ec01e9a80b91"
      },
      "execution_count": 29,
      "outputs": [
        {
          "output_type": "stream",
          "name": "stdout",
          "text": [
            "[0.97222222 0.9691358  0.97832817 0.97213622 0.9752322 ]\n"
          ]
        }
      ]
    },
    {
      "cell_type": "code",
      "source": [
        "print(acc_score) # accuracy of test data"
      ],
      "metadata": {
        "colab": {
          "base_uri": "https://localhost:8080/"
        },
        "outputId": "7b388d6a-b323-40d0-efaa-fd8740d88ffd",
        "id": "LyH05NgJCpls"
      },
      "execution_count": null,
      "outputs": [
        {
          "output_type": "stream",
          "name": "stdout",
          "text": [
            "0.9666666666666667\n"
          ]
        }
      ]
    },
    {
      "cell_type": "code",
      "source": [
        "from sklearn.preprocessing import StandardScaler\n",
        "from sklearn.neighbors import KNeighborsClassifier\n",
        "from sklearn import linear_model\n",
        "#>>> regr = linear_model.LinearRegression()\n",
        "from sklearn.pipeline import make_pipeline\n",
        "#from sklearn.datasets import load_iris\n",
        "from sklearn.model_selection import train_test_split\n",
        "from sklearn.metrics import accuracy_score\n",
        "from sklearn.model_selection import cross_validate\n",
        "# create a pipeline object\n",
        "pipe = make_pipeline(\n",
        "    StandardScaler(),\n",
        "    linear_model.LogisticRegression(max_iter=1000)\n",
        ")\n",
        "# load the iris dataset and split it into train and test sets\n",
        "X, y = datasets.load_digits(return_X_y=True)\n",
        "X_train, X_test, y_train, y_test = train_test_split(X, y, random_state=0, train_size=0.9)\n",
        "# fit the whole pipeline\n",
        "pipe.fit(X_train, y_train)\n",
        "# we can now use it like any other estimator\n",
        "acc_score=accuracy_score(pipe.predict(X_test), y_test)\n",
        "\n",
        "result = cross_validate(pipe, X_train, y_train)  # defaults to 5-fold CV"
      ],
      "metadata": {
        "id": "W1by_UZbCfI8"
      },
      "execution_count": 41,
      "outputs": []
    },
    {
      "cell_type": "code",
      "source": [
        "print(result['test_score'])"
      ],
      "metadata": {
        "colab": {
          "base_uri": "https://localhost:8080/"
        },
        "outputId": "f49a78b1-04c0-4e2d-a007-710978a6484e",
        "id": "YXOnOKTJChMN"
      },
      "execution_count": 42,
      "outputs": [
        {
          "output_type": "stream",
          "name": "stdout",
          "text": [
            "[0.95679012 0.96296296 0.9628483  0.97213622 0.97213622]\n"
          ]
        }
      ]
    },
    {
      "cell_type": "code",
      "source": [
        "print(acc_score) # accuracy of test data"
      ],
      "metadata": {
        "colab": {
          "base_uri": "https://localhost:8080/"
        },
        "id": "XmjATlR0BJOw",
        "outputId": "ab2671b9-6c23-4cef-b77e-98cd9fecc5f9"
      },
      "execution_count": 43,
      "outputs": [
        {
          "output_type": "stream",
          "name": "stdout",
          "text": [
            "0.9722222222222222\n"
          ]
        }
      ]
    }
  ]
}