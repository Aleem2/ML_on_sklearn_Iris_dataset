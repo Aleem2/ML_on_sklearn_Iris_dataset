{
  "nbformat": 4,
  "nbformat_minor": 0,
  "metadata": {
    "colab": {
      "provenance": [],
      "authorship_tag": "ABX9TyMqRVRCphhML314hU1bgaEQ",
      "include_colab_link": true
    },
    "kernelspec": {
      "name": "python3",
      "display_name": "Python 3"
    },
    "language_info": {
      "name": "python"
    }
  },
  "cells": [
    {
      "cell_type": "markdown",
      "metadata": {
        "id": "view-in-github",
        "colab_type": "text"
      },
      "source": [
        "<a href=\"https://colab.research.google.com/github/Aleem2/Mastering-ML-using-sklearn/blob/main/Sklearn_template_file.ipynb\" target=\"_parent\"><img src=\"https://colab.research.google.com/assets/colab-badge.svg\" alt=\"Open In Colab\"/></a>"
      ]
    },
    {
      "cell_type": "markdown",
      "source": [
        "This code is part of getting started with Sklearn. It adds the model cross-validation neatly in one template file. A user might copy this notebook and bring on their dataset and change the estimator.\n",
        "\n",
        "Hint: How to select an estimator.\n",
        "\n",
        "https://scikit-learn.org/stable/getting_started.html\n",
        "\n",
        "To do:\n",
        "Add suggestions on parameters optimisation.\n",
        "\n",
        "\n"
      ],
      "metadata": {
        "id": "PL6ifuMrn6qU"
      }
    },
    {
      "cell_type": "code",
      "execution_count": 7,
      "metadata": {
        "id": "dfx0ATiAmcC7"
      },
      "outputs": [],
      "source": [
        "from sklearn.preprocessing import StandardScaler\n",
        "from sklearn.linear_model import LogisticRegression\n",
        "from sklearn.pipeline import make_pipeline\n",
        "from sklearn.datasets import load_iris\n",
        "from sklearn.model_selection import train_test_split\n",
        "from sklearn.metrics import accuracy_score\n",
        "from sklearn.model_selection import cross_validate\n",
        "# create a pipeline object\n",
        "pipe = make_pipeline(\n",
        "    StandardScaler(),\n",
        "    LogisticRegression()\n",
        ")\n",
        "# load the iris dataset and split it into train and test sets\n",
        "X, y = load_iris(return_X_y=True)\n",
        "X_train, X_test, y_train, y_test = train_test_split(X, y, random_state=0)\n",
        "# fit the whole pipeline\n",
        "pipe.fit(X_train, y_train)\n",
        "# we can now use it like any other estimator\n",
        "acc_score=accuracy_score(pipe.predict(X_test), y_test)\n",
        "\n",
        "result = cross_validate(pipe, X_train, y_train)  # defaults to 5-fold CV"
      ]
    },
    {
      "cell_type": "code",
      "source": [
        "print(result['test_score'])"
      ],
      "metadata": {
        "colab": {
          "base_uri": "https://localhost:8080/"
        },
        "id": "g7RzHnmhXMM6",
        "outputId": "d26b5fa6-b78b-4059-9dc1-5f06b602b30b"
      },
      "execution_count": 12,
      "outputs": [
        {
          "output_type": "stream",
          "name": "stdout",
          "text": [
            "[0.95652174 0.91304348 0.95454545 0.95454545 0.95454545]\n"
          ]
        }
      ]
    },
    {
      "cell_type": "markdown",
      "source": [],
      "metadata": {
        "id": "8SSH60ChWk6O"
      }
    },
    {
      "cell_type": "code",
      "source": [
        "print(acc_score) # accuracy of test data"
      ],
      "metadata": {
        "id": "Y09oCww5q2j7",
        "colab": {
          "base_uri": "https://localhost:8080/"
        },
        "outputId": "30b1d72c-2cce-471b-9f99-65a34401951c"
      },
      "execution_count": 13,
      "outputs": [
        {
          "output_type": "stream",
          "name": "stdout",
          "text": [
            "0.9736842105263158\n"
          ]
        }
      ]
    }
  ]
}